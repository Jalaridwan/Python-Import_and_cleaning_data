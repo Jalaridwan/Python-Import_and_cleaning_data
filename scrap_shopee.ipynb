{
 "cells": [
  {
   "cell_type": "code",
   "execution_count": 9,
   "metadata": {},
   "outputs": [],
   "source": [
    "import requests\n",
    "from bs4 import BeautifulSoup"
   ]
  },
  {
   "cell_type": "code",
   "execution_count": 40,
   "metadata": {},
   "outputs": [],
   "source": [
    "api_url = 'https://shopee.co.id/api/v4/search/search_items'"
   ]
  },
  {
   "cell_type": "code",
   "execution_count": 42,
   "metadata": {},
   "outputs": [],
   "source": [
    "params = {\n",
    "    'by': 'pop',\n",
    "    'limit': 120,\n",
    "    'match_id': 51925611,\n",
    "    'newest': 0,\n",
    "    'order': 'desc',\n",
    "    'page_type': 'shop',\n",
    "    'scenario': 'PAGE_OTHERS',\n",
    "    'version': 2\n",
    "    }"
   ]
  },
  {
   "cell_type": "code",
   "execution_count": 45,
   "metadata": {},
   "outputs": [],
   "source": [
    "# respon dari request html\n",
    "r = requests.get(api_url, params=params)"
   ]
  },
  {
   "cell_type": "code",
   "execution_count": 28,
   "metadata": {},
   "outputs": [],
   "source": [
    "#file html\n",
    "file = r.text"
   ]
  },
  {
   "cell_type": "code",
   "execution_count": 29,
   "metadata": {},
   "outputs": [],
   "source": [
    "soup = BeautifulSoup(file)"
   ]
  },
  {
   "cell_type": "code",
   "execution_count": null,
   "metadata": {},
   "outputs": [],
   "source": [
    "# tampilan html terstruktur\n",
    "print(soup.prettify())"
   ]
  },
  {
   "cell_type": "code",
   "execution_count": 31,
   "metadata": {},
   "outputs": [],
   "source": [
    "soup.title"
   ]
  },
  {
   "cell_type": "code",
   "execution_count": 46,
   "metadata": {},
   "outputs": [],
   "source": [
    "json_file = r.json()"
   ]
  },
  {
   "cell_type": "code",
   "execution_count": 47,
   "metadata": {},
   "outputs": [
    {
     "name": "stdout",
     "output_type": "stream",
     "text": [
      "bff_meta\n",
      "error\n",
      "error_msg\n",
      "reserved_keyword\n",
      "suggestion_algorithm\n",
      "algorithm\n",
      "total_count\n",
      "nomore\n",
      "items\n",
      "price_adjust\n",
      "adjust\n",
      "total_ads_count\n",
      "hint_keywords\n",
      "show_disclaimer\n",
      "json_data\n",
      "query_rewrite\n",
      "disclaimer_infos\n",
      "need_next_search\n",
      "low_result\n",
      "autoplay_info\n",
      "food_item_info\n",
      "search_tracking\n",
      "search_sessionid\n",
      "batch_size\n",
      "search_item_bff_tracking\n",
      "user_info\n"
     ]
    }
   ],
   "source": [
    "for key in json_file.keys():\n",
    "    print(key)"
   ]
  },
  {
   "cell_type": "code",
   "execution_count": 54,
   "metadata": {},
   "outputs": [],
   "source": [
    "products = json_data['items']"
   ]
  },
  {
   "cell_type": "code",
   "execution_count": 86,
   "metadata": {},
   "outputs": [],
   "source": [
    "name, stock, sold, price = [], [], [], []\n",
    "\n",
    "for item in products:\n",
    "    name.append(item['item_basic']['name'])\n",
    "    stock.append(item['item_basic']['stock'])\n",
    "    sold.append(item['item_basic']['sold'])\n",
    "    price.append(item['item_basic']['price'])"
   ]
  },
  {
   "cell_type": "code",
   "execution_count": 87,
   "metadata": {},
   "outputs": [],
   "source": [
    "keys = ['name', 'stock', 'sold', 'price']\n",
    "values = [name, stock, sold, price]\n",
    "xiaomi_store = dict(zip(keys,values))"
   ]
  },
  {
   "cell_type": "code",
   "execution_count": 90,
   "metadata": {},
   "outputs": [],
   "source": [
    "import pandas as pd\n",
    "df = pd.DataFrame(xiaomi_store)"
   ]
  },
  {
   "cell_type": "code",
   "execution_count": 93,
   "metadata": {},
   "outputs": [
    {
     "data": {
      "text/plain": [
       "(30, 4)"
      ]
     },
     "execution_count": 93,
     "metadata": {},
     "output_type": "execute_result"
    }
   ],
   "source": [
    "df.shape"
   ]
  },
  {
   "cell_type": "code",
   "execution_count": null,
   "metadata": {},
   "outputs": [],
   "source": []
  }
 ],
 "metadata": {
  "kernelspec": {
   "display_name": "Python 3",
   "language": "python",
   "name": "python3"
  },
  "language_info": {
   "codemirror_mode": {
    "name": "ipython",
    "version": 3
   },
   "file_extension": ".py",
   "mimetype": "text/x-python",
   "name": "python",
   "nbconvert_exporter": "python",
   "pygments_lexer": "ipython3",
   "version": "3.8.5"
  }
 },
 "nbformat": 4,
 "nbformat_minor": 4
}
