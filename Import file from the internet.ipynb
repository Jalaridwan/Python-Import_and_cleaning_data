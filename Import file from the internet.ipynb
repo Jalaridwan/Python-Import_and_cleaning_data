{
 "cells": [
  {
   "cell_type": "markdown",
   "metadata": {},
   "source": [
    "### Import flat file dari internet"
   ]
  },
  {
   "cell_type": "code",
   "execution_count": 2,
   "metadata": {},
   "outputs": [],
   "source": [
    "#Import package\n",
    "\n",
    "from urllib.request import urlretrieve\n",
    "import pandas as pd"
   ]
  },
  {
   "cell_type": "code",
   "execution_count": 4,
   "metadata": {},
   "outputs": [],
   "source": [
    "# alamat file\n",
    "\n",
    "url = 'https://s3.amazonaws.com/assets.datacamp.com/production/course_1606/datasets/winequality-red.csv'"
   ]
  },
  {
   "cell_type": "code",
   "execution_count": 7,
   "metadata": {},
   "outputs": [
    {
     "data": {
      "text/plain": [
       "('winequality-red.csv', <http.client.HTTPMessage at 0x222206ec460>)"
      ]
     },
     "execution_count": 7,
     "metadata": {},
     "output_type": "execute_result"
    }
   ],
   "source": [
    "# simpan file dari url dengan nama\n",
    "\n",
    "urlretrieve(url, 'winequality-red.csv')"
   ]
  },
  {
   "cell_type": "code",
   "execution_count": 8,
   "metadata": {},
   "outputs": [
    {
     "data": {
      "text/html": [
       "<div>\n",
       "<style scoped>\n",
       "    .dataframe tbody tr th:only-of-type {\n",
       "        vertical-align: middle;\n",
       "    }\n",
       "\n",
       "    .dataframe tbody tr th {\n",
       "        vertical-align: top;\n",
       "    }\n",
       "\n",
       "    .dataframe thead th {\n",
       "        text-align: right;\n",
       "    }\n",
       "</style>\n",
       "<table border=\"1\" class=\"dataframe\">\n",
       "  <thead>\n",
       "    <tr style=\"text-align: right;\">\n",
       "      <th></th>\n",
       "      <th>fixed acidity</th>\n",
       "      <th>volatile acidity</th>\n",
       "      <th>citric acid</th>\n",
       "      <th>residual sugar</th>\n",
       "      <th>chlorides</th>\n",
       "      <th>free sulfur dioxide</th>\n",
       "      <th>total sulfur dioxide</th>\n",
       "      <th>density</th>\n",
       "      <th>pH</th>\n",
       "      <th>sulphates</th>\n",
       "      <th>alcohol</th>\n",
       "      <th>quality</th>\n",
       "    </tr>\n",
       "  </thead>\n",
       "  <tbody>\n",
       "    <tr>\n",
       "      <th>0</th>\n",
       "      <td>7.4</td>\n",
       "      <td>0.70</td>\n",
       "      <td>0.00</td>\n",
       "      <td>1.9</td>\n",
       "      <td>0.076</td>\n",
       "      <td>11.0</td>\n",
       "      <td>34.0</td>\n",
       "      <td>0.9978</td>\n",
       "      <td>3.51</td>\n",
       "      <td>0.56</td>\n",
       "      <td>9.4</td>\n",
       "      <td>5</td>\n",
       "    </tr>\n",
       "    <tr>\n",
       "      <th>1</th>\n",
       "      <td>7.8</td>\n",
       "      <td>0.88</td>\n",
       "      <td>0.00</td>\n",
       "      <td>2.6</td>\n",
       "      <td>0.098</td>\n",
       "      <td>25.0</td>\n",
       "      <td>67.0</td>\n",
       "      <td>0.9968</td>\n",
       "      <td>3.20</td>\n",
       "      <td>0.68</td>\n",
       "      <td>9.8</td>\n",
       "      <td>5</td>\n",
       "    </tr>\n",
       "    <tr>\n",
       "      <th>2</th>\n",
       "      <td>7.8</td>\n",
       "      <td>0.76</td>\n",
       "      <td>0.04</td>\n",
       "      <td>2.3</td>\n",
       "      <td>0.092</td>\n",
       "      <td>15.0</td>\n",
       "      <td>54.0</td>\n",
       "      <td>0.9970</td>\n",
       "      <td>3.26</td>\n",
       "      <td>0.65</td>\n",
       "      <td>9.8</td>\n",
       "      <td>5</td>\n",
       "    </tr>\n",
       "    <tr>\n",
       "      <th>3</th>\n",
       "      <td>11.2</td>\n",
       "      <td>0.28</td>\n",
       "      <td>0.56</td>\n",
       "      <td>1.9</td>\n",
       "      <td>0.075</td>\n",
       "      <td>17.0</td>\n",
       "      <td>60.0</td>\n",
       "      <td>0.9980</td>\n",
       "      <td>3.16</td>\n",
       "      <td>0.58</td>\n",
       "      <td>9.8</td>\n",
       "      <td>6</td>\n",
       "    </tr>\n",
       "    <tr>\n",
       "      <th>4</th>\n",
       "      <td>7.4</td>\n",
       "      <td>0.70</td>\n",
       "      <td>0.00</td>\n",
       "      <td>1.9</td>\n",
       "      <td>0.076</td>\n",
       "      <td>11.0</td>\n",
       "      <td>34.0</td>\n",
       "      <td>0.9978</td>\n",
       "      <td>3.51</td>\n",
       "      <td>0.56</td>\n",
       "      <td>9.4</td>\n",
       "      <td>5</td>\n",
       "    </tr>\n",
       "  </tbody>\n",
       "</table>\n",
       "</div>"
      ],
      "text/plain": [
       "   fixed acidity  volatile acidity  citric acid  residual sugar  chlorides  \\\n",
       "0            7.4              0.70         0.00             1.9      0.076   \n",
       "1            7.8              0.88         0.00             2.6      0.098   \n",
       "2            7.8              0.76         0.04             2.3      0.092   \n",
       "3           11.2              0.28         0.56             1.9      0.075   \n",
       "4            7.4              0.70         0.00             1.9      0.076   \n",
       "\n",
       "   free sulfur dioxide  total sulfur dioxide  density    pH  sulphates  \\\n",
       "0                 11.0                  34.0   0.9978  3.51       0.56   \n",
       "1                 25.0                  67.0   0.9968  3.20       0.68   \n",
       "2                 15.0                  54.0   0.9970  3.26       0.65   \n",
       "3                 17.0                  60.0   0.9980  3.16       0.58   \n",
       "4                 11.0                  34.0   0.9978  3.51       0.56   \n",
       "\n",
       "   alcohol  quality  \n",
       "0      9.4        5  \n",
       "1      9.8        5  \n",
       "2      9.8        5  \n",
       "3      9.8        6  \n",
       "4      9.4        5  "
      ]
     },
     "execution_count": 8,
     "metadata": {},
     "output_type": "execute_result"
    }
   ],
   "source": [
    "# baca file\n",
    "df_wine = pd.read_csv('winequality-red.csv', sep = ';')\n",
    "df_wine.head()"
   ]
  },
  {
   "cell_type": "markdown",
   "metadata": {},
   "source": [
    "### HTTP requests to import html files from the web"
   ]
  },
  {
   "cell_type": "code",
   "execution_count": 9,
   "metadata": {},
   "outputs": [],
   "source": [
    "from urllib.request import urlopen, Request"
   ]
  },
  {
   "cell_type": "code",
   "execution_count": 10,
   "metadata": {},
   "outputs": [],
   "source": [
    "url = 'https://data.jakarta.go.id/dataset/indeks-standar-pencemaran-udara-ispu-tahun-2021/resource/1494b7f4bca51e2361e28a2aa38acbb2'"
   ]
  },
  {
   "cell_type": "code",
   "execution_count": 11,
   "metadata": {},
   "outputs": [],
   "source": [
    "request = Request(url)"
   ]
  },
  {
   "cell_type": "code",
   "execution_count": 12,
   "metadata": {},
   "outputs": [],
   "source": [
    "response = urlopen(request)"
   ]
  },
  {
   "cell_type": "code",
   "execution_count": 13,
   "metadata": {},
   "outputs": [],
   "source": [
    "html = response.read()"
   ]
  },
  {
   "cell_type": "code",
   "execution_count": 15,
   "metadata": {},
   "outputs": [],
   "source": [
    "response.close()"
   ]
  },
  {
   "cell_type": "markdown",
   "metadata": {},
   "source": [
    "#### Request Package"
   ]
  },
  {
   "cell_type": "code",
   "execution_count": 16,
   "metadata": {},
   "outputs": [],
   "source": [
    "import requests"
   ]
  },
  {
   "cell_type": "code",
   "execution_count": 17,
   "metadata": {},
   "outputs": [],
   "source": [
    "url = 'https://id.wikipedia.org/wiki/FC_Barcelona'"
   ]
  },
  {
   "cell_type": "code",
   "execution_count": 18,
   "metadata": {},
   "outputs": [],
   "source": [
    "req = requests.get(url)"
   ]
  },
  {
   "cell_type": "code",
   "execution_count": 22,
   "metadata": {},
   "outputs": [],
   "source": [
    "text = req.text"
   ]
  },
  {
   "cell_type": "markdown",
   "metadata": {},
   "source": [
    "## Scraping the web in Python"
   ]
  },
  {
   "cell_type": "code",
   "execution_count": 24,
   "metadata": {},
   "outputs": [],
   "source": [
    "from bs4 import BeautifulSoup"
   ]
  },
  {
   "cell_type": "code",
   "execution_count": 37,
   "metadata": {},
   "outputs": [],
   "source": [
    "# menggunakan package requests untuk mendapatkan file html\n",
    "url = 'https://data.jakarta.go.id/dataset/indeks-standar-pencemaran-udara-ispu-tahun-2021/resource/1494b7f4bca51e2361e28a2aa38acbb2'"
   ]
  },
  {
   "cell_type": "code",
   "execution_count": 27,
   "metadata": {},
   "outputs": [],
   "source": [
    "req = requests.get(url)\n",
    "html_file = req.text"
   ]
  },
  {
   "cell_type": "code",
   "execution_count": 39,
   "metadata": {},
   "outputs": [],
   "source": [
    "soup = BeautifulSoup(html_file, 'lxml')"
   ]
  },
  {
   "cell_type": "markdown",
   "metadata": {},
   "source": [
    "#### BeautifulSoup method"
   ]
  },
  {
   "cell_type": "code",
   "execution_count": 33,
   "metadata": {},
   "outputs": [
    {
     "data": {
      "text/plain": [
       "<title>Indeks Standar Pencemar Udara di Provinsi DKI Jakarta Bulan Januari Tahun 2021 - Open Data Jakarta</title>"
      ]
     },
     "execution_count": 33,
     "metadata": {},
     "output_type": "execute_result"
    }
   ],
   "source": [
    "soup.title"
   ]
  },
  {
   "cell_type": "code",
   "execution_count": 34,
   "metadata": {},
   "outputs": [
    {
     "data": {
      "text/plain": [
       "'\\n\\n\\nIndeks Standar Pencemar Udara di Provinsi DKI Jakarta Bulan Januari Tahun 2021 - Open Data Jakarta\\n\\n\\n\\n\\n\\n\\n\\n\\n\\n\\n\\n\\n\\n\\n\\n\\n\\n\\n\\n\\n\\n\\n\\n\\n\\n\\n\\n\\n\\n\\n\\n\\n\\n\\n\\n\\n\\n\\nData (current)\\n\\n\\nOrganisasi \\n\\n\\nTopik \\n\\n\\nVisualisasi \\n\\n\\nInfografis \\n\\n\\nTentang \\n\\n\\n\\n\\n \\n\\n\\n\\n\\n Home\\r\\n\\t\\t\\t\\t\\t\\xa0 / \\xa0\\r\\n\\t\\t\\t\\t\\tOrganisasi\\r\\n\\t\\t\\t\\t\\t\\xa0 / \\xa0\\r\\n\\t\\t\\t\\t\\tDinas Lingkungan Hidup\\r\\n\\t\\t\\t\\t\\t\\xa0 / \\xa0\\r\\n\\t\\t\\t\\t\\tIndeks Standar Pencemaran Udara (ISPU) Tahun 2021\\r\\n\\t\\t\\t\\t\\t\\xa0 / \\xa0\\r\\n\\t\\t\\t\\t\\tIndeks Standar Pencemar Udara di Provinsi DKI Jakarta Bulan Januari Tahun 2021\\n\\n\\n\\n\\n\\n\\n\\nIndeks Standar Pencemar Udara di Provinsi DKI Jakarta Bulan Januari Tahun 2021\\r\\n\\t\\t\\t\\t\\t\\t(Tanggal Buat : 27 April 2021)Dataset ini berisi mengenai Indeks Standar Pencemar Udara (ISPU) yang diukur dari 5 stasiun pemantau kualitas udara (SPKU) yang ada di Provinsi DKI Jakarta Tahun 2021\\r\\n\\r\\nPenjelasan variabel dari data diatas sebagai berikut :\\r\\n\\r\\n1. tanggal : Tanggal pengukuran kualitas udara\\r\\n2. stasiun : Lokasi pengukuran di stasiun\\r\\n3. pm10 : Partikulat salah satu parameter yang diukur\\r\\n4. so2 : Sulfida (dalam bentuk SO2) salah satu parameter yang diukur\\r\\n5. co : Carbon Monoksida salah satu parameter yand diukur\\r\\n6. o3 : Ozon salah satu parameter yang diukur\\r\\n7. no2 : NItrogen dioksida salah satu parameter yang diukur\\r\\n8. max : Nilai ukur paling tinggi dari seluruh parameter yang diukur dalam waktu yang sama\\r\\n9. critical : Parameter yang hasil pengukurannya paling tinggi\\r\\n10. categori : Kategori hasil perhitungan indeks standar pencemaran udara  Unduh Data (2.00 KB)\\n\\n\\nMenampilkan 32 dari 32 Data, silahkan unduh file untuk melihat data lebih rinci.\\n\\n\\n\\n\\n\\n\\n\\n\\n\\n\\n\\n\\n\\r\\n\\t\\t\\t\\t\\t\\tPortal Data Terpadu Pemprov DKI Jakarta\\r\\n\\t\\t\\t\\t\\t\\tJl. Medan Merdeka Selatan No. 8-9  Blok H Lt. 13, Jakarta, Indonesia\\r\\n\\t\\t\\t\\t\\t\\n\\r\\n\\t\\t\\t\\t\\t\\tHelp Desk : 0813 2002 4902\\r\\n\\t\\t\\t\\t\\t\\tEmail : datin@jakarta.go.id\\r\\n\\t\\t\\t\\t\\t\\n\\n\\n\\n\\n\\n\\n\\n\\n\\n\\n\\n\\nTotal Kunjungan\\n\\nResource by PIWIK : \\n\\n0\\n\\n\\n\\nLogin\\xa0\\xa0\\n\\n\\n\\n\\n\\n\\n\\n\\n\\n\\n\\n\\n\\n\\n\\n\\n\\n\\n\\n\\n\\n\\n\\n\\n\\n\\n\\n\\n\\n\\n\\n\\n\\n\\n\\n\\n\\n\\n\\n\\n\\n\\n\\n\\n\\r\\n\\t\\t\\t\\t© 2020 Dinas Komunikasi, Informatika, dan Statistik - All Rights Reserved\\r\\n\\t\\t\\t\\n\\n\\n\\n\\n\\n\\n\\n\\n\\n\\n\\n\\n\\n\\n \\n\\n\\n\\n\\n\\n\\n\\n\\n\\n\\n\\n\\n\\n\\n\\n\\n\\n\\n\\n\\n \\n\\n\\n'"
      ]
     },
     "execution_count": 34,
     "metadata": {},
     "output_type": "execute_result"
    }
   ],
   "source": [
    "soup.get_text()"
   ]
  },
  {
   "cell_type": "code",
   "execution_count": 36,
   "metadata": {},
   "outputs": [
    {
     "name": "stdout",
     "output_type": "stream",
     "text": [
      "https://data.jakarta.go.id/\n",
      "https://data.jakarta.go.id/dataset\n",
      "https://data.jakarta.go.id/organization\n",
      "https://data.jakarta.go.id/group\n",
      "https://data.jakarta.go.id/visualisasi\n",
      "https://data.jakarta.go.id/infografis\n",
      "https://data.jakarta.go.id/tentang\n",
      "https://data.jakarta.go.id/\n",
      "https://data.jakarta.go.id/organization\n",
      "https://data.jakarta.go.id/organization/badan-pengelolaan-lingkungan-hidup-daerah\n",
      "https://data.jakarta.go.id/dataset/indeks-standar-pencemaran-udara-ispu-tahun-2021\n",
      "https://data.jakarta.go.id/dataset/3b56c00404adf8feb3f667cbbd700b7c/resource/1494b7f4bca51e2361e28a2aa38acbb2/download/Indeks-Standar-Pencemar-Udara-di-Provinsi-DKI-Jakarta-Bulan-Januari-Tahun-2021.csv\n",
      "https://data.jakarta.go.id/login\n",
      "javascript:void(0);\n",
      "javascript:void(0);\n",
      "javascript:void(0);\n",
      "javascript:void(0);\n",
      "https://jakarta.go.id/\n",
      "https://ppid.jakarta.go.id/\n",
      "https://www.beritajakarta.id/\n",
      "https://data.jakarta.go.id/jalahoaks/\n",
      "https://smartcity.jakarta.go.id/\n",
      "https://data.go.id/\n"
     ]
    }
   ],
   "source": [
    "for link in soup.find_all('a'):\n",
    "    href = link.get('href')\n",
    "    print(href)"
   ]
  },
  {
   "cell_type": "code",
   "execution_count": null,
   "metadata": {},
   "outputs": [],
   "source": []
  }
 ],
 "metadata": {
  "kernelspec": {
   "display_name": "Python 3",
   "language": "python",
   "name": "python3"
  },
  "language_info": {
   "codemirror_mode": {
    "name": "ipython",
    "version": 3
   },
   "file_extension": ".py",
   "mimetype": "text/x-python",
   "name": "python",
   "nbconvert_exporter": "python",
   "pygments_lexer": "ipython3",
   "version": "3.8.5"
  }
 },
 "nbformat": 4,
 "nbformat_minor": 4
}
