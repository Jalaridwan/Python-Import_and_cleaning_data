{
 "cells": [
  {
   "cell_type": "code",
   "execution_count": 42,
   "metadata": {},
   "outputs": [],
   "source": [
    "import pandas as pd\n",
    "import matplotlib.pyplot as plt\n",
    "import datetime as dt"
   ]
  },
  {
   "cell_type": "code",
   "execution_count": 6,
   "metadata": {},
   "outputs": [],
   "source": [
    "banking = pd.read_csv('dataset/banking_dirty.csv', index_col = 'Unnamed: 0')"
   ]
  },
  {
   "cell_type": "code",
   "execution_count": 7,
   "metadata": {},
   "outputs": [
    {
     "data": {
      "text/html": [
       "<div>\n",
       "<style scoped>\n",
       "    .dataframe tbody tr th:only-of-type {\n",
       "        vertical-align: middle;\n",
       "    }\n",
       "\n",
       "    .dataframe tbody tr th {\n",
       "        vertical-align: top;\n",
       "    }\n",
       "\n",
       "    .dataframe thead th {\n",
       "        text-align: right;\n",
       "    }\n",
       "</style>\n",
       "<table border=\"1\" class=\"dataframe\">\n",
       "  <thead>\n",
       "    <tr style=\"text-align: right;\">\n",
       "      <th></th>\n",
       "      <th>cust_id</th>\n",
       "      <th>birth_date</th>\n",
       "      <th>Age</th>\n",
       "      <th>acct_amount</th>\n",
       "      <th>inv_amount</th>\n",
       "      <th>fund_A</th>\n",
       "      <th>fund_B</th>\n",
       "      <th>fund_C</th>\n",
       "      <th>fund_D</th>\n",
       "      <th>account_opened</th>\n",
       "      <th>last_transaction</th>\n",
       "    </tr>\n",
       "  </thead>\n",
       "  <tbody>\n",
       "    <tr>\n",
       "      <th>0</th>\n",
       "      <td>870A9281</td>\n",
       "      <td>1962-06-09</td>\n",
       "      <td>58</td>\n",
       "      <td>63523.31</td>\n",
       "      <td>51295</td>\n",
       "      <td>30105.0</td>\n",
       "      <td>4138.0</td>\n",
       "      <td>1420.0</td>\n",
       "      <td>15632.0</td>\n",
       "      <td>02-09-18</td>\n",
       "      <td>22-02-19</td>\n",
       "    </tr>\n",
       "    <tr>\n",
       "      <th>1</th>\n",
       "      <td>166B05B0</td>\n",
       "      <td>1962-12-16</td>\n",
       "      <td>58</td>\n",
       "      <td>38175.46</td>\n",
       "      <td>15050</td>\n",
       "      <td>4995.0</td>\n",
       "      <td>938.0</td>\n",
       "      <td>6696.0</td>\n",
       "      <td>2421.0</td>\n",
       "      <td>28-02-19</td>\n",
       "      <td>31-10-18</td>\n",
       "    </tr>\n",
       "    <tr>\n",
       "      <th>2</th>\n",
       "      <td>BFC13E88</td>\n",
       "      <td>1990-09-12</td>\n",
       "      <td>34</td>\n",
       "      <td>59863.77</td>\n",
       "      <td>24567</td>\n",
       "      <td>10323.0</td>\n",
       "      <td>4590.0</td>\n",
       "      <td>8469.0</td>\n",
       "      <td>1185.0</td>\n",
       "      <td>25-04-18</td>\n",
       "      <td>02-04-18</td>\n",
       "    </tr>\n",
       "    <tr>\n",
       "      <th>3</th>\n",
       "      <td>F2158F66</td>\n",
       "      <td>1985-11-03</td>\n",
       "      <td>35</td>\n",
       "      <td>84132.10</td>\n",
       "      <td>23712</td>\n",
       "      <td>3908.0</td>\n",
       "      <td>492.0</td>\n",
       "      <td>6482.0</td>\n",
       "      <td>12830.0</td>\n",
       "      <td>07-11-17</td>\n",
       "      <td>08-11-18</td>\n",
       "    </tr>\n",
       "    <tr>\n",
       "      <th>4</th>\n",
       "      <td>7A73F334</td>\n",
       "      <td>1990-05-17</td>\n",
       "      <td>30</td>\n",
       "      <td>120512.00</td>\n",
       "      <td>93230</td>\n",
       "      <td>12158.4</td>\n",
       "      <td>51281.0</td>\n",
       "      <td>13434.0</td>\n",
       "      <td>18383.0</td>\n",
       "      <td>14-05-18</td>\n",
       "      <td>19-07-18</td>\n",
       "    </tr>\n",
       "  </tbody>\n",
       "</table>\n",
       "</div>"
      ],
      "text/plain": [
       "    cust_id  birth_date  Age  acct_amount  inv_amount   fund_A   fund_B  \\\n",
       "0  870A9281  1962-06-09   58     63523.31       51295  30105.0   4138.0   \n",
       "1  166B05B0  1962-12-16   58     38175.46       15050   4995.0    938.0   \n",
       "2  BFC13E88  1990-09-12   34     59863.77       24567  10323.0   4590.0   \n",
       "3  F2158F66  1985-11-03   35     84132.10       23712   3908.0    492.0   \n",
       "4  7A73F334  1990-05-17   30    120512.00       93230  12158.4  51281.0   \n",
       "\n",
       "    fund_C   fund_D account_opened last_transaction  \n",
       "0   1420.0  15632.0       02-09-18         22-02-19  \n",
       "1   6696.0   2421.0       28-02-19         31-10-18  \n",
       "2   8469.0   1185.0       25-04-18         02-04-18  \n",
       "3   6482.0  12830.0       07-11-17         08-11-18  \n",
       "4  13434.0  18383.0       14-05-18         19-07-18  "
      ]
     },
     "execution_count": 7,
     "metadata": {},
     "output_type": "execute_result"
    }
   ],
   "source": [
    "banking.head()"
   ]
  },
  {
   "cell_type": "code",
   "execution_count": 4,
   "metadata": {},
   "outputs": [
    {
     "data": {
      "text/plain": [
       "(100, 12)"
      ]
     },
     "execution_count": 4,
     "metadata": {},
     "output_type": "execute_result"
    }
   ],
   "source": [
    "banking.shape"
   ]
  },
  {
   "cell_type": "code",
   "execution_count": 5,
   "metadata": {},
   "outputs": [
    {
     "name": "stdout",
     "output_type": "stream",
     "text": [
      "<class 'pandas.core.frame.DataFrame'>\n",
      "RangeIndex: 100 entries, 0 to 99\n",
      "Data columns (total 12 columns):\n",
      " #   Column            Non-Null Count  Dtype  \n",
      "---  ------            --------------  -----  \n",
      " 0   Unnamed: 0        100 non-null    int64  \n",
      " 1   cust_id           100 non-null    object \n",
      " 2   birth_date        100 non-null    object \n",
      " 3   Age               100 non-null    int64  \n",
      " 4   acct_amount       100 non-null    float64\n",
      " 5   inv_amount        100 non-null    int64  \n",
      " 6   fund_A            100 non-null    float64\n",
      " 7   fund_B            100 non-null    float64\n",
      " 8   fund_C            100 non-null    float64\n",
      " 9   fund_D            100 non-null    float64\n",
      " 10  account_opened    100 non-null    object \n",
      " 11  last_transaction  100 non-null    object \n",
      "dtypes: float64(5), int64(3), object(4)\n",
      "memory usage: 9.5+ KB\n"
     ]
    }
   ],
   "source": [
    "banking.info()"
   ]
  },
  {
   "cell_type": "code",
   "execution_count": null,
   "metadata": {},
   "outputs": [],
   "source": []
  },
  {
   "cell_type": "markdown",
   "metadata": {},
   "source": [
    "### Data tidak seragam"
   ]
  },
  {
   "cell_type": "code",
   "execution_count": 22,
   "metadata": {},
   "outputs": [
    {
     "data": {
      "image/png": "[encoded data removed]",
      "text/plain": [
       "<Figure size 432x288 with 1 Axes>"
      ]
     },
     "metadata": {
      "needs_background": "light"
     },
     "output_type": "display_data"
    }
   ],
   "source": [
    "plt.scatter(x = 'inv_amount', y = 'acct_amount', data = banking)\n",
    "plt.ylabel('account amount')\n",
    "plt.xlabel('Investment amount')\n",
    "#plt.yscale('log')\n",
    "plt.show();"
   ]
  },
  {
   "cell_type": "code",
   "execution_count": 24,
   "metadata": {},
   "outputs": [
    {
     "data": {
      "text/html": [
       "<div>\n",
       "<style scoped>\n",
       "    .dataframe tbody tr th:only-of-type {\n",
       "        vertical-align: middle;\n",
       "    }\n",
       "\n",
       "    .dataframe tbody tr th {\n",
       "        vertical-align: top;\n",
       "    }\n",
       "\n",
       "    .dataframe thead th {\n",
       "        text-align: right;\n",
       "    }\n",
       "</style>\n",
       "<table border=\"1\" class=\"dataframe\">\n",
       "  <thead>\n",
       "    <tr style=\"text-align: right;\">\n",
       "      <th></th>\n",
       "      <th>cust_id</th>\n",
       "      <th>birth_date</th>\n",
       "      <th>Age</th>\n",
       "      <th>acct_amount</th>\n",
       "      <th>inv_amount</th>\n",
       "      <th>fund_A</th>\n",
       "      <th>fund_B</th>\n",
       "      <th>fund_C</th>\n",
       "      <th>fund_D</th>\n",
       "      <th>account_opened</th>\n",
       "      <th>last_transaction</th>\n",
       "    </tr>\n",
       "  </thead>\n",
       "  <tbody>\n",
       "    <tr>\n",
       "      <th>61</th>\n",
       "      <td>45F31C81</td>\n",
       "      <td>1975-01-12</td>\n",
       "      <td>49</td>\n",
       "      <td>1.206753e+08</td>\n",
       "      <td>94608</td>\n",
       "      <td>15416.0</td>\n",
       "      <td>18845.0</td>\n",
       "      <td>20325.0</td>\n",
       "      <td>40022.0</td>\n",
       "      <td>05-11-18</td>\n",
       "      <td>25-12-19</td>\n",
       "    </tr>\n",
       "    <tr>\n",
       "      <th>75</th>\n",
       "      <td>8B359102</td>\n",
       "      <td>1974-08-16</td>\n",
       "      <td>46</td>\n",
       "      <td>1.737431e+08</td>\n",
       "      <td>96614</td>\n",
       "      <td>18634.0</td>\n",
       "      <td>1763.0</td>\n",
       "      <td>75499.0</td>\n",
       "      <td>718.0</td>\n",
       "      <td>04-06-18</td>\n",
       "      <td>20-06-19</td>\n",
       "    </tr>\n",
       "  </tbody>\n",
       "</table>\n",
       "</div>"
      ],
      "text/plain": [
       "     cust_id  birth_date  Age   acct_amount  inv_amount   fund_A   fund_B  \\\n",
       "61  45F31C81  1975-01-12   49  1.206753e+08       94608  15416.0  18845.0   \n",
       "75  8B359102  1974-08-16   46  1.737431e+08       96614  18634.0   1763.0   \n",
       "\n",
       "     fund_C   fund_D account_opened last_transaction  \n",
       "61  20325.0  40022.0       05-11-18         25-12-19  \n",
       "75  75499.0    718.0       04-06-18         20-06-19  "
      ]
     },
     "execution_count": 24,
     "metadata": {},
     "output_type": "execute_result"
    }
   ],
   "source": [
    "banking[banking['acct_amount'] > 25000000]"
   ]
  },
  {
   "cell_type": "markdown",
   "metadata": {},
   "source": [
    "#### datetime tidak seragam"
   ]
  },
  {
   "cell_type": "code",
   "execution_count": 29,
   "metadata": {},
   "outputs": [],
   "source": [
    "banking['birth_date'] = pd.to_datetime(banking['birth_date'],\n",
    "                                       infer_datetime_format = True,\n",
    "                                       # error jika baris gagal di konversi\n",
    "                                        errors = 'coerce')"
   ]
  },
  {
   "cell_type": "markdown",
   "metadata": {},
   "source": [
    "### Cross field validation"
   ]
  },
  {
   "cell_type": "code",
   "execution_count": 36,
   "metadata": {},
   "outputs": [],
   "source": [
    "sum_fund = banking[['fund_A','fund_B','fund_C','fund_D']].sum(axis = 1)"
   ]
  },
  {
   "cell_type": "code",
   "execution_count": 51,
   "metadata": {},
   "outputs": [
    {
     "data": {
      "text/plain": [
       "True     92\n",
       "False     8\n",
       "dtype: int64"
      ]
     },
     "execution_count": 51,
     "metadata": {},
     "output_type": "execute_result"
    }
   ],
   "source": [
    "check_inv_amount = banking['inv_amount'] == sum_fund\n",
    "check_inv_amount.value_counts()"
   ]
  },
  {
   "cell_type": "code",
   "execution_count": 52,
   "metadata": {},
   "outputs": [
    {
     "data": {
      "text/html": [
       "<div>\n",
       "<style scoped>\n",
       "    .dataframe tbody tr th:only-of-type {\n",
       "        vertical-align: middle;\n",
       "    }\n",
       "\n",
       "    .dataframe tbody tr th {\n",
       "        vertical-align: top;\n",
       "    }\n",
       "\n",
       "    .dataframe thead th {\n",
       "        text-align: right;\n",
       "    }\n",
       "</style>\n",
       "<table border=\"1\" class=\"dataframe\">\n",
       "  <thead>\n",
       "    <tr style=\"text-align: right;\">\n",
       "      <th></th>\n",
       "      <th>cust_id</th>\n",
       "      <th>birth_date</th>\n",
       "      <th>Age</th>\n",
       "      <th>acct_amount</th>\n",
       "      <th>inv_amount</th>\n",
       "      <th>fund_A</th>\n",
       "      <th>fund_B</th>\n",
       "      <th>fund_C</th>\n",
       "      <th>fund_D</th>\n",
       "      <th>account_opened</th>\n",
       "      <th>last_transaction</th>\n",
       "    </tr>\n",
       "  </thead>\n",
       "  <tbody>\n",
       "    <tr>\n",
       "      <th>4</th>\n",
       "      <td>7A73F334</td>\n",
       "      <td>1990-05-17</td>\n",
       "      <td>30</td>\n",
       "      <td>120512.00</td>\n",
       "      <td>93230</td>\n",
       "      <td>12158.40</td>\n",
       "      <td>51281.00</td>\n",
       "      <td>13434.00</td>\n",
       "      <td>18383.00</td>\n",
       "      <td>2018-05-14</td>\n",
       "      <td>2018-07-19</td>\n",
       "    </tr>\n",
       "    <tr>\n",
       "      <th>12</th>\n",
       "      <td>EEBD980F</td>\n",
       "      <td>1990-11-20</td>\n",
       "      <td>34</td>\n",
       "      <td>57838.49</td>\n",
       "      <td>50812</td>\n",
       "      <td>18314.00</td>\n",
       "      <td>1477.00</td>\n",
       "      <td>29049.48</td>\n",
       "      <td>5539.00</td>\n",
       "      <td>2018-08-12</td>\n",
       "      <td>2020-04-01</td>\n",
       "    </tr>\n",
       "    <tr>\n",
       "      <th>22</th>\n",
       "      <td>96525DA6</td>\n",
       "      <td>1992-11-23</td>\n",
       "      <td>28</td>\n",
       "      <td>82511.24</td>\n",
       "      <td>33927</td>\n",
       "      <td>8206.00</td>\n",
       "      <td>15019.00</td>\n",
       "      <td>5559.60</td>\n",
       "      <td>6182.00</td>\n",
       "      <td>2018-07-23</td>\n",
       "      <td>2018-07-08</td>\n",
       "    </tr>\n",
       "    <tr>\n",
       "      <th>43</th>\n",
       "      <td>38B8CD9C</td>\n",
       "      <td>1970-06-25</td>\n",
       "      <td>50</td>\n",
       "      <td>28834.71</td>\n",
       "      <td>27531</td>\n",
       "      <td>314.00</td>\n",
       "      <td>6072.28</td>\n",
       "      <td>14163.00</td>\n",
       "      <td>7908.00</td>\n",
       "      <td>2018-09-17</td>\n",
       "      <td>2020-05-02</td>\n",
       "    </tr>\n",
       "    <tr>\n",
       "      <th>47</th>\n",
       "      <td>68C55974</td>\n",
       "      <td>1962-07-08</td>\n",
       "      <td>58</td>\n",
       "      <td>95038.14</td>\n",
       "      <td>66796</td>\n",
       "      <td>33764.00</td>\n",
       "      <td>5042.00</td>\n",
       "      <td>10659.00</td>\n",
       "      <td>19237.41</td>\n",
       "      <td>2018-03-04</td>\n",
       "      <td>2018-09-25</td>\n",
       "    </tr>\n",
       "    <tr>\n",
       "      <th>65</th>\n",
       "      <td>0A9BA907</td>\n",
       "      <td>1966-09-21</td>\n",
       "      <td>54</td>\n",
       "      <td>90469.53</td>\n",
       "      <td>70171</td>\n",
       "      <td>28615.00</td>\n",
       "      <td>21720.05</td>\n",
       "      <td>11906.00</td>\n",
       "      <td>10763.00</td>\n",
       "      <td>2018-06-15</td>\n",
       "      <td>2018-08-28</td>\n",
       "    </tr>\n",
       "    <tr>\n",
       "      <th>89</th>\n",
       "      <td>C580AE41</td>\n",
       "      <td>1968-06-01</td>\n",
       "      <td>52</td>\n",
       "      <td>96673.37</td>\n",
       "      <td>68466</td>\n",
       "      <td>8489.36</td>\n",
       "      <td>28592.00</td>\n",
       "      <td>2439.00</td>\n",
       "      <td>30419.00</td>\n",
       "      <td>2018-09-28</td>\n",
       "      <td>2018-09-17</td>\n",
       "    </tr>\n",
       "    <tr>\n",
       "      <th>92</th>\n",
       "      <td>A07D5C92</td>\n",
       "      <td>1990-09-20</td>\n",
       "      <td>30</td>\n",
       "      <td>99577.36</td>\n",
       "      <td>60407</td>\n",
       "      <td>6467.00</td>\n",
       "      <td>20861.00</td>\n",
       "      <td>9861.00</td>\n",
       "      <td>26004.16</td>\n",
       "      <td>2017-11-17</td>\n",
       "      <td>2020-01-16</td>\n",
       "    </tr>\n",
       "  </tbody>\n",
       "</table>\n",
       "</div>"
      ],
      "text/plain": [
       "     cust_id birth_date  Age  acct_amount  inv_amount    fund_A    fund_B  \\\n",
       "4   7A73F334 1990-05-17   30    120512.00       93230  12158.40  51281.00   \n",
       "12  EEBD980F 1990-11-20   34     57838.49       50812  18314.00   1477.00   \n",
       "22  96525DA6 1992-11-23   28     82511.24       33927   8206.00  15019.00   \n",
       "43  38B8CD9C 1970-06-25   50     28834.71       27531    314.00   6072.28   \n",
       "47  68C55974 1962-07-08   58     95038.14       66796  33764.00   5042.00   \n",
       "65  0A9BA907 1966-09-21   54     90469.53       70171  28615.00  21720.05   \n",
       "89  C580AE41 1968-06-01   52     96673.37       68466   8489.36  28592.00   \n",
       "92  A07D5C92 1990-09-20   30     99577.36       60407   6467.00  20861.00   \n",
       "\n",
       "      fund_C    fund_D account_opened last_transaction  \n",
       "4   13434.00  18383.00     2018-05-14       2018-07-19  \n",
       "12  29049.48   5539.00     2018-08-12       2020-04-01  \n",
       "22   5559.60   6182.00     2018-07-23       2018-07-08  \n",
       "43  14163.00   7908.00     2018-09-17       2020-05-02  \n",
       "47  10659.00  19237.41     2018-03-04       2018-09-25  \n",
       "65  11906.00  10763.00     2018-06-15       2018-08-28  \n",
       "89   2439.00  30419.00     2018-09-28       2018-09-17  \n",
       "92   9861.00  26004.16     2017-11-17       2020-01-16  "
      ]
     },
     "execution_count": 52,
     "metadata": {},
     "output_type": "execute_result"
    }
   ],
   "source": [
    "# data tidak konsisten\n",
    "inconsistent_inv = banking[~check_inv_amount]\n",
    "inconsistent_inv"
   ]
  },
  {
   "cell_type": "markdown",
   "metadata": {},
   "source": [
    "#### cek umur"
   ]
  },
  {
   "cell_type": "code",
   "execution_count": 45,
   "metadata": {},
   "outputs": [],
   "source": [
    "tahun_2020 = dt.date(2020, 1, 11)"
   ]
  },
  {
   "cell_type": "code",
   "execution_count": 48,
   "metadata": {},
   "outputs": [],
   "source": [
    "age_manual = tahun_2020.year - banking['birth_date'].dt.year"
   ]
  },
  {
   "cell_type": "code",
   "execution_count": 50,
   "metadata": {},
   "outputs": [
    {
     "data": {
      "text/plain": [
       "True     92\n",
       "False     8\n",
       "dtype: int64"
      ]
     },
     "execution_count": 50,
     "metadata": {},
     "output_type": "execute_result"
    }
   ],
   "source": [
    "check_age = age_manual == banking['Age']\n",
    "check_age.value_counts()"
   ]
  },
  {
   "cell_type": "code",
   "execution_count": 54,
   "metadata": {
    "scrolled": true
   },
   "outputs": [
    {
     "data": {
      "text/html": [
       "<div>\n",
       "<style scoped>\n",
       "    .dataframe tbody tr th:only-of-type {\n",
       "        vertical-align: middle;\n",
       "    }\n",
       "\n",
       "    .dataframe tbody tr th {\n",
       "        vertical-align: top;\n",
       "    }\n",
       "\n",
       "    .dataframe thead th {\n",
       "        text-align: right;\n",
       "    }\n",
       "</style>\n",
       "<table border=\"1\" class=\"dataframe\">\n",
       "  <thead>\n",
       "    <tr style=\"text-align: right;\">\n",
       "      <th></th>\n",
       "      <th>cust_id</th>\n",
       "      <th>birth_date</th>\n",
       "      <th>Age</th>\n",
       "      <th>acct_amount</th>\n",
       "      <th>inv_amount</th>\n",
       "      <th>fund_A</th>\n",
       "      <th>fund_B</th>\n",
       "      <th>fund_C</th>\n",
       "      <th>fund_D</th>\n",
       "      <th>account_opened</th>\n",
       "      <th>last_transaction</th>\n",
       "    </tr>\n",
       "  </thead>\n",
       "  <tbody>\n",
       "    <tr>\n",
       "      <th>2</th>\n",
       "      <td>BFC13E88</td>\n",
       "      <td>1990-09-12</td>\n",
       "      <td>34</td>\n",
       "      <td>5.986377e+04</td>\n",
       "      <td>24567</td>\n",
       "      <td>10323.0</td>\n",
       "      <td>4590.0</td>\n",
       "      <td>8469.00</td>\n",
       "      <td>1185.0</td>\n",
       "      <td>2018-04-25</td>\n",
       "      <td>2018-02-04</td>\n",
       "    </tr>\n",
       "    <tr>\n",
       "      <th>8</th>\n",
       "      <td>E52D4C7F</td>\n",
       "      <td>1975-06-05</td>\n",
       "      <td>49</td>\n",
       "      <td>6.179589e+04</td>\n",
       "      <td>49385</td>\n",
       "      <td>12939.0</td>\n",
       "      <td>7757.0</td>\n",
       "      <td>12569.00</td>\n",
       "      <td>16120.0</td>\n",
       "      <td>2017-05-22</td>\n",
       "      <td>2019-10-24</td>\n",
       "    </tr>\n",
       "    <tr>\n",
       "      <th>12</th>\n",
       "      <td>EEBD980F</td>\n",
       "      <td>1990-11-20</td>\n",
       "      <td>34</td>\n",
       "      <td>5.783849e+04</td>\n",
       "      <td>50812</td>\n",
       "      <td>18314.0</td>\n",
       "      <td>1477.0</td>\n",
       "      <td>29049.48</td>\n",
       "      <td>5539.0</td>\n",
       "      <td>2018-08-12</td>\n",
       "      <td>2020-04-01</td>\n",
       "    </tr>\n",
       "    <tr>\n",
       "      <th>23</th>\n",
       "      <td>A1815565</td>\n",
       "      <td>1968-09-27</td>\n",
       "      <td>56</td>\n",
       "      <td>8.299604e+04</td>\n",
       "      <td>30897</td>\n",
       "      <td>16092.0</td>\n",
       "      <td>5491.0</td>\n",
       "      <td>5098.00</td>\n",
       "      <td>4216.0</td>\n",
       "      <td>2017-07-11</td>\n",
       "      <td>2019-09-30</td>\n",
       "    </tr>\n",
       "    <tr>\n",
       "      <th>32</th>\n",
       "      <td>8D08495A</td>\n",
       "      <td>1961-08-14</td>\n",
       "      <td>63</td>\n",
       "      <td>8.913852e+04</td>\n",
       "      <td>60795</td>\n",
       "      <td>53880.0</td>\n",
       "      <td>1325.0</td>\n",
       "      <td>2105.00</td>\n",
       "      <td>3485.0</td>\n",
       "      <td>2018-08-08</td>\n",
       "      <td>2019-05-02</td>\n",
       "    </tr>\n",
       "    <tr>\n",
       "      <th>54</th>\n",
       "      <td>2F4F99C1</td>\n",
       "      <td>1988-12-19</td>\n",
       "      <td>36</td>\n",
       "      <td>8.205848e+04</td>\n",
       "      <td>35758</td>\n",
       "      <td>6129.0</td>\n",
       "      <td>16840.0</td>\n",
       "      <td>10397.00</td>\n",
       "      <td>2392.0</td>\n",
       "      <td>2018-12-30</td>\n",
       "      <td>2018-11-08</td>\n",
       "    </tr>\n",
       "    <tr>\n",
       "      <th>61</th>\n",
       "      <td>45F31C81</td>\n",
       "      <td>1975-01-12</td>\n",
       "      <td>49</td>\n",
       "      <td>1.206753e+08</td>\n",
       "      <td>94608</td>\n",
       "      <td>15416.0</td>\n",
       "      <td>18845.0</td>\n",
       "      <td>20325.00</td>\n",
       "      <td>40022.0</td>\n",
       "      <td>2018-05-11</td>\n",
       "      <td>2019-12-25</td>\n",
       "    </tr>\n",
       "    <tr>\n",
       "      <th>85</th>\n",
       "      <td>7539C3B7</td>\n",
       "      <td>1974-05-14</td>\n",
       "      <td>50</td>\n",
       "      <td>1.077557e+06</td>\n",
       "      <td>91190</td>\n",
       "      <td>32692.0</td>\n",
       "      <td>30405.0</td>\n",
       "      <td>14728.00</td>\n",
       "      <td>13365.0</td>\n",
       "      <td>2017-08-23</td>\n",
       "      <td>2019-07-06</td>\n",
       "    </tr>\n",
       "  </tbody>\n",
       "</table>\n",
       "</div>"
      ],
      "text/plain": [
       "     cust_id birth_date  Age   acct_amount  inv_amount   fund_A   fund_B  \\\n",
       "2   BFC13E88 1990-09-12   34  5.986377e+04       24567  10323.0   4590.0   \n",
       "8   E52D4C7F 1975-06-05   49  6.179589e+04       49385  12939.0   7757.0   \n",
       "12  EEBD980F 1990-11-20   34  5.783849e+04       50812  18314.0   1477.0   \n",
       "23  A1815565 1968-09-27   56  8.299604e+04       30897  16092.0   5491.0   \n",
       "32  8D08495A 1961-08-14   63  8.913852e+04       60795  53880.0   1325.0   \n",
       "54  2F4F99C1 1988-12-19   36  8.205848e+04       35758   6129.0  16840.0   \n",
       "61  45F31C81 1975-01-12   49  1.206753e+08       94608  15416.0  18845.0   \n",
       "85  7539C3B7 1974-05-14   50  1.077557e+06       91190  32692.0  30405.0   \n",
       "\n",
       "      fund_C   fund_D account_opened last_transaction  \n",
       "2    8469.00   1185.0     2018-04-25       2018-02-04  \n",
       "8   12569.00  16120.0     2017-05-22       2019-10-24  \n",
       "12  29049.48   5539.0     2018-08-12       2020-04-01  \n",
       "23   5098.00   4216.0     2017-07-11       2019-09-30  \n",
       "32   2105.00   3485.0     2018-08-08       2019-05-02  \n",
       "54  10397.00   2392.0     2018-12-30       2018-11-08  \n",
       "61  20325.00  40022.0     2018-05-11       2019-12-25  \n",
       "85  14728.00  13365.0     2017-08-23       2019-07-06  "
      ]
     },
     "execution_count": 54,
     "metadata": {},
     "output_type": "execute_result"
    }
   ],
   "source": [
    "# data tidak konsisten\n",
    "inconsistent_age = banking[~check_age]\n",
    "inconsistent_age"
   ]
  },
  {
   "cell_type": "markdown",
   "metadata": {},
   "source": [
    "### Missing Data"
   ]
  },
  {
   "cell_type": "code",
   "execution_count": null,
   "metadata": {},
   "outputs": [],
   "source": [
    "# rangkum missing data:\n",
    "banking.isna().sum()"
   ]
  },
  {
   "cell_type": "code",
   "execution_count": null,
   "metadata": {},
   "outputs": [],
   "source": [
    "# visualizing missing data\n",
    "import missingno as msno\n",
    "msno.matrix(banking)\n",
    "plt.show();"
   ]
  },
  {
   "cell_type": "code",
   "execution_count": null,
   "metadata": {},
   "outputs": [],
   "source": [
    "# kelompok missing dan complete value\n",
    "missing = banking[banking['inv_amount'].isna()]\n",
    "complete = banking[~banking['inv_amount'].isna()]"
   ]
  },
  {
   "cell_type": "code",
   "execution_count": null,
   "metadata": {},
   "outputs": [],
   "source": [
    "# cek summary\n",
    "missing.describe()"
   ]
  },
  {
   "cell_type": "code",
   "execution_count": null,
   "metadata": {},
   "outputs": [],
   "source": [
    "complete.describe()"
   ]
  },
  {
   "cell_type": "code",
   "execution_count": null,
   "metadata": {},
   "outputs": [],
   "source": []
  }
 ],
 "metadata": {
  "kernelspec": {
   "display_name": "Python 3",
   "language": "python",
   "name": "python3"
  },
  "language_info": {
   "codemirror_mode": {
    "name": "ipython",
    "version": 3
   },
   "file_extension": ".py",
   "mimetype": "text/x-python",
   "name": "python",
   "nbconvert_exporter": "python",
   "pygments_lexer": "ipython3",
   "version": "3.8.5"
  }
 },
 "nbformat": 4,
 "nbformat_minor": 4
}
